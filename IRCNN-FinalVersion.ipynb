{
 "cells": [
  {
   "cell_type": "markdown",
   "metadata": {
    "colab_type": "text",
    "id": "y4j-cShYT6Mz"
   },
   "source": [
    "## Inception Recurrent Convolutional Neural Network (IRCNN)"
   ]
  },
  {
   "cell_type": "code",
   "execution_count": 1,
   "metadata": {},
   "outputs": [
    {
     "name": "stderr",
     "output_type": "stream",
     "text": [
      "2022-12-06 00:13:58.298964: I tensorflow/stream_executor/platform/default/dso_loader.cc:49] Successfully opened dynamic library libcudart.so.10.1\n"
     ]
    }
   ],
   "source": [
    "import tensorflow as tf"
   ]
  },
  {
   "cell_type": "code",
   "execution_count": 2,
   "metadata": {
    "colab": {
     "base_uri": "https://localhost:8080/",
     "height": 34
    },
    "colab_type": "code",
    "id": "v7PLwcGm5jHz",
    "outputId": "ae0d9538-3d52-4a4a-efd2-f66d02554054"
   },
   "outputs": [],
   "source": [
    "import numpy as np\n",
    "import cv2\n",
    "import os\n",
    "import warnings\n",
    "\n",
    "from tensorflow.keras.layers import MaxPooling2D, Convolution2D, AveragePooling2D\n",
    "from tensorflow.keras.layers import GlobalAveragePooling2D\n",
    "from tensorflow.keras.layers import Input, Dropout, Dense, Flatten, Activation\n",
    "from tensorflow.keras.layers import BatchNormalization\n",
    "from tensorflow.keras.layers import concatenate\n",
    "from tensorflow.keras.layers import Add\n",
    "from tensorflow.keras import regularizers\n",
    "from tensorflow.keras import initializers\n",
    "from tensorflow.keras.models import Model\n",
    "from tensorflow.keras.callbacks import ModelCheckpoint\n",
    "from tensorflow.keras import applications\n",
    "from tensorflow.keras import optimizers\n",
    "from tensorflow.keras import callbacks\n",
    "from tensorflow.keras import backend as K\n",
    "from keras_preprocessing.image import ImageDataGenerator\n",
    "from matplotlib import pyplot as plt"
   ]
  },
  {
   "cell_type": "code",
   "execution_count": null,
   "metadata": {},
   "outputs": [],
   "source": [
    "image_size = 512\n",
    "dropout_rate = 0.2\n",
    "bs = 16\n",
    "no_classes = 3"
   ]
  },
  {
   "cell_type": "markdown",
   "metadata": {
    "colab_type": "text",
    "id": "mohJ1GonbCGp"
   },
   "source": [
    "#### Defining the model"
   ]
  },
  {
   "cell_type": "code",
   "execution_count": 3,
   "metadata": {
    "colab": {},
    "colab_type": "code",
    "id": "DdmOO-QX5o3n"
   },
   "outputs": [],
   "source": [
    "# Convolution 2D with batch norm\n",
    "def conv2d_bn(x, nb_filter, num_row, num_col,\n",
    "            padding='same', strides=(1, 1), use_bias=False):\n",
    "  \"\"\"\n",
    "  Utility function to apply conv + BN. \n",
    "  (Slightly modified from https://github.com/fchollet/keras/blob/master/keras/applications/inception_v3.py)\n",
    "  \"\"\"\n",
    "  if K.image_data_format() == 'channels_first':\n",
    "    channel_axis = 1\n",
    "  else:\n",
    "    channel_axis = -1\n",
    "  x = Convolution2D(nb_filter, (num_row, num_col),\n",
    "                    strides=strides,\n",
    "                    padding=padding,\n",
    "                    use_bias=use_bias,\n",
    "                    kernel_regularizer=regularizers.l2(0.00004),\n",
    "                    kernel_initializer=initializers.VarianceScaling(scale=2.0, mode='fan_in', distribution='normal', seed=None))(x)\n",
    "  x = BatchNormalization(axis=channel_axis, momentum=0.9997, scale=False)(x)\n",
    "  x = Activation('relu')(x)\n",
    "  return x\n",
    "\n",
    "# Recurrent convolutional layer\n",
    "def RCL(input, kernel_size, filedepth):\n",
    "  if K.image_data_format() == 'channels_first':\n",
    "    channel_axis = 1\n",
    "  else:\n",
    "    channel_axis = -1\n",
    "\n",
    "  conv1 = Convolution2D(filters=filedepth, kernel_size=kernel_size, strides=(1, 1), padding='same',\n",
    "                 kernel_regularizer=regularizers.l2(0.00004),\n",
    "                 kernel_initializer=initializers.VarianceScaling(scale=2.0, mode='fan_in', distribution='normal', seed=None))(input)\n",
    "\n",
    "  stack2 = BatchNormalization(axis=channel_axis, momentum=0.9997, scale=False)(conv1)\n",
    "  stack2 = Activation('relu')(stack2)\n",
    "\n",
    "  RCL = Convolution2D(filters=filedepth, kernel_size=kernel_size, strides=(1, 1), padding='same', \n",
    "                 kernel_regularizer=regularizers.l2(0.00004),\n",
    "                 kernel_initializer=initializers.VarianceScaling(scale=2.0, mode='fan_in', distribution='normal', seed=None))\n",
    "\n",
    "  conv2 = RCL(stack2)\n",
    "  stack3 = Add()([conv1, conv2])\n",
    "  stack4 = BatchNormalization(axis=channel_axis, momentum=0.9997, scale=False)(stack3)\n",
    "  stack4 = Activation('relu')(stack4)\n",
    "\n",
    "\n",
    "  conv3 = Convolution2D(filters=filedepth, kernel_size=kernel_size, strides=(1, 1), padding='same',\n",
    "                 weights=RCL.get_weights(),\n",
    "                 kernel_regularizer=regularizers.l2(0.00004),\n",
    "                 kernel_initializer=initializers.VarianceScaling(scale=2.0, mode='fan_in', distribution='normal', seed=None))(stack4)\n",
    "  stack5 = Add()([conv1, conv3])\n",
    "  stack6 = BatchNormalization(axis=channel_axis, momentum=0.9997, scale=False)(stack5)\n",
    "  stack6 = Activation('relu')(stack6)\n",
    "\n",
    "\n",
    "  conv4 = Convolution2D(filters=filedepth, kernel_size=kernel_size, strides=(1, 1), padding='same',\n",
    "                 weights=RCL.get_weights(),\n",
    "                 kernel_regularizer=regularizers.l2(0.00004),\n",
    "                 kernel_initializer=initializers.VarianceScaling(scale=2.0, mode='fan_in', distribution='normal', seed=None))(stack6)\n",
    "  stack7 = Add()([conv1, conv4])\n",
    "  stack8 = BatchNormalization(axis=channel_axis, momentum=0.9997, scale=False)(stack7)\n",
    "  stack8 = Activation('relu')(stack8)\n",
    "\n",
    "  return stack8\n",
    "\n",
    "\n",
    "def IRCNN_block(input):\n",
    "  if K.image_data_format() == 'channels_first':\n",
    "    channel_axis = 1\n",
    "  else:\n",
    "    channel_axis = -1\n",
    "\n",
    "  branch_0 = RCL(input, (1, 1), 64)\n",
    "\n",
    "  branch_1 = RCL(input, (3, 3), 128)\n",
    "\n",
    "  branch_2 = AveragePooling2D((3,3), strides=(1,1), padding='same')(input)\n",
    "  branch_2 = RCL(branch_2, (1, 1), 64)\n",
    "\n",
    "  x = concatenate([branch_0, branch_1, branch_2], axis=channel_axis)\n",
    "  return x"
   ]
  },
  {
   "cell_type": "markdown",
   "metadata": {
    "colab_type": "text",
    "id": "QwXAemFKbcKr"
   },
   "source": [
    "Below we have used 3 IRCNN blocks with transitional layers as per the paper."
   ]
  },
  {
   "cell_type": "code",
   "execution_count": 4,
   "metadata": {
    "colab": {},
    "colab_type": "code",
    "id": "88nWq3rubXcY"
   },
   "outputs": [],
   "source": [
    "def IRCNN_base(input):\n",
    "\n",
    "  if K.image_data_format() == 'channels_first':\n",
    "    inputShape = (3, 256, 256)\n",
    "    channel_axis = 1\n",
    "  else:\n",
    "    inputShape = (256, 256, 3)\n",
    "    channel_axis = -1\n",
    "\n",
    "  # Input Shape is 3 x 256 x 256\n",
    "  net = Convolution2D(32, (3, 3), strides=(2,2), padding='valid')(input)\n",
    "  net = conv2d_bn(net, 32, 3, 3, padding='valid')\n",
    "  net = conv2d_bn(net, 64, 3, 3)\n",
    "\n",
    "  net = IRCNN_block(input)\n",
    "                 \n",
    "  net = conv2d_bn(net, 32, 3, 3, strides=(2,2), padding='valid')\n",
    "  net = MaxPooling2D((3,3), strides=(2,2), padding='valid')(net)\n",
    "  net = Dropout(0.5)(net)\n",
    "\n",
    "  net = IRCNN_block(input)\n",
    "                 \n",
    "  net = conv2d_bn(net, 32, 3, 3, strides=(2,2), padding='valid')\n",
    "  net = MaxPooling2D((3,3), strides=(2,2), padding='valid')(net)\n",
    "  net = Dropout(0.5)(net)\n",
    "                 \n",
    "  net = IRCNN_block(input)\n",
    "                 \n",
    "  net = conv2d_bn(net, 32, 3, 3, strides=(2,2), padding='valid')\n",
    "  net = GlobalAveragePooling2D()(net)\n",
    "  net = Dropout(0.5)(net)\n",
    "  \n",
    "  \n",
    "  return net\t\t\t"
   ]
  },
  {
   "cell_type": "code",
   "execution_count": 13,
   "metadata": {
    "colab": {},
    "colab_type": "code",
    "id": "jHqGqiMIoGlY"
   },
   "outputs": [
    {
     "name": "stderr",
     "output_type": "stream",
     "text": [
      "2022-12-06 00:13:59.280987: I tensorflow/compiler/jit/xla_cpu_device.cc:41] Not creating XLA devices, tf_xla_enable_xla_devices not set\n",
      "2022-12-06 00:13:59.281872: I tensorflow/stream_executor/platform/default/dso_loader.cc:49] Successfully opened dynamic library libcuda.so.1\n",
      "2022-12-06 00:13:59.316398: I tensorflow/core/common_runtime/gpu/gpu_device.cc:1720] Found device 0 with properties: \n",
      "pciBusID: 0000:65:00.0 name: Quadro P5000 computeCapability: 6.1\n",
      "coreClock: 1.7335GHz coreCount: 20 deviceMemorySize: 15.89GiB deviceMemoryBandwidth: 269.00GiB/s\n",
      "2022-12-06 00:13:59.316440: I tensorflow/stream_executor/platform/default/dso_loader.cc:49] Successfully opened dynamic library libcudart.so.10.1\n",
      "2022-12-06 00:13:59.319475: I tensorflow/stream_executor/platform/default/dso_loader.cc:49] Successfully opened dynamic library libcublas.so.10\n",
      "2022-12-06 00:13:59.319573: I tensorflow/stream_executor/platform/default/dso_loader.cc:49] Successfully opened dynamic library libcublasLt.so.10\n",
      "2022-12-06 00:13:59.322025: I tensorflow/stream_executor/platform/default/dso_loader.cc:49] Successfully opened dynamic library libcufft.so.10\n",
      "2022-12-06 00:13:59.322495: I tensorflow/stream_executor/platform/default/dso_loader.cc:49] Successfully opened dynamic library libcurand.so.10\n",
      "2022-12-06 00:13:59.325333: I tensorflow/stream_executor/platform/default/dso_loader.cc:49] Successfully opened dynamic library libcusolver.so.10\n",
      "2022-12-06 00:13:59.326470: I tensorflow/stream_executor/platform/default/dso_loader.cc:49] Successfully opened dynamic library libcusparse.so.10\n",
      "2022-12-06 00:13:59.331039: I tensorflow/stream_executor/platform/default/dso_loader.cc:49] Successfully opened dynamic library libcudnn.so.7\n",
      "2022-12-06 00:13:59.332385: I tensorflow/core/common_runtime/gpu/gpu_device.cc:1862] Adding visible gpu devices: 0\n",
      "2022-12-06 00:13:59.332769: I tensorflow/core/platform/cpu_feature_guard.cc:142] This TensorFlow binary is optimized with oneAPI Deep Neural Network Library (oneDNN) to use the following CPU instructions in performance-critical operations:  SSE4.1 SSE4.2 AVX AVX2 AVX512F FMA\n",
      "To enable them in other operations, rebuild TensorFlow with the appropriate compiler flags.\n",
      "2022-12-06 00:13:59.333931: I tensorflow/compiler/jit/xla_gpu_device.cc:99] Not creating XLA devices, tf_xla_enable_xla_devices not set\n",
      "2022-12-06 00:13:59.334582: I tensorflow/core/common_runtime/gpu/gpu_device.cc:1720] Found device 0 with properties: \n",
      "pciBusID: 0000:65:00.0 name: Quadro P5000 computeCapability: 6.1\n",
      "coreClock: 1.7335GHz coreCount: 20 deviceMemorySize: 15.89GiB deviceMemoryBandwidth: 269.00GiB/s\n",
      "2022-12-06 00:13:59.334602: I tensorflow/stream_executor/platform/default/dso_loader.cc:49] Successfully opened dynamic library libcudart.so.10.1\n",
      "2022-12-06 00:13:59.334633: I tensorflow/stream_executor/platform/default/dso_loader.cc:49] Successfully opened dynamic library libcublas.so.10\n",
      "2022-12-06 00:13:59.334642: I tensorflow/stream_executor/platform/default/dso_loader.cc:49] Successfully opened dynamic library libcublasLt.so.10\n",
      "2022-12-06 00:13:59.334651: I tensorflow/stream_executor/platform/default/dso_loader.cc:49] Successfully opened dynamic library libcufft.so.10\n",
      "2022-12-06 00:13:59.334660: I tensorflow/stream_executor/platform/default/dso_loader.cc:49] Successfully opened dynamic library libcurand.so.10\n",
      "2022-12-06 00:13:59.334668: I tensorflow/stream_executor/platform/default/dso_loader.cc:49] Successfully opened dynamic library libcusolver.so.10\n",
      "2022-12-06 00:13:59.334677: I tensorflow/stream_executor/platform/default/dso_loader.cc:49] Successfully opened dynamic library libcusparse.so.10\n",
      "2022-12-06 00:13:59.334685: I tensorflow/stream_executor/platform/default/dso_loader.cc:49] Successfully opened dynamic library libcudnn.so.7\n",
      "2022-12-06 00:13:59.335543: I tensorflow/core/common_runtime/gpu/gpu_device.cc:1862] Adding visible gpu devices: 0\n",
      "2022-12-06 00:13:59.335575: I tensorflow/stream_executor/platform/default/dso_loader.cc:49] Successfully opened dynamic library libcudart.so.10.1\n",
      "2022-12-06 00:13:59.743400: I tensorflow/core/common_runtime/gpu/gpu_device.cc:1261] Device interconnect StreamExecutor with strength 1 edge matrix:\n",
      "2022-12-06 00:13:59.743425: I tensorflow/core/common_runtime/gpu/gpu_device.cc:1267]      0 \n",
      "2022-12-06 00:13:59.743431: I tensorflow/core/common_runtime/gpu/gpu_device.cc:1280] 0:   N \n",
      "2022-12-06 00:13:59.744762: I tensorflow/core/common_runtime/gpu/gpu_device.cc:1406] Created TensorFlow device (/job:localhost/replica:0/task:0/device:GPU:0 with 14571 MB memory) -> physical GPU (device: 0, name: Quadro P5000, pci bus id: 0000:65:00.0, compute capability: 6.1)\n"
     ]
    }
   ],
   "source": [
    "if K.image_data_format() == 'channels_first':\n",
    "  inputs = Input(shape = (3, image_size, image_size))\n",
    "else:\n",
    "  inputs = Input(shape = (image_size, image_size, 3))\n",
    "\n",
    "x = Convolution2D(32, (3, 3), strides=(2,2), padding='valid')(inputs)\n",
    "x = IRCNN_base(x)\n",
    "x = Dense(units=no_classes, activation='softmax')(x)\n",
    "\n",
    "model = Model(inputs, x, name='IRCNN')"
   ]
  },
  {
   "cell_type": "markdown",
   "metadata": {},
   "source": [
    "## Model Summary "
   ]
  },
  {
   "cell_type": "code",
   "execution_count": 14,
   "metadata": {
    "colab": {},
    "colab_type": "code",
    "id": "GYHzanvs8N0V",
    "scrolled": false
   },
   "outputs": [
    {
     "name": "stdout",
     "output_type": "stream",
     "text": [
      "Model: \"IRCNN\"\n",
      "__________________________________________________________________________________________________\n",
      "Layer (type)                    Output Shape         Param #     Connected to                     \n",
      "==================================================================================================\n",
      "input_1 (InputLayer)            [(None, 512, 512, 3) 0                                            \n",
      "__________________________________________________________________________________________________\n",
      "conv2d (Conv2D)                 (None, 255, 255, 32) 896         input_1[0][0]                    \n",
      "__________________________________________________________________________________________________\n",
      "average_pooling2d_2 (AveragePoo (None, 255, 255, 32) 0           conv2d[0][0]                     \n",
      "__________________________________________________________________________________________________\n",
      "conv2d_30 (Conv2D)              (None, 255, 255, 64) 2112        conv2d[0][0]                     \n",
      "__________________________________________________________________________________________________\n",
      "conv2d_34 (Conv2D)              (None, 255, 255, 128 36992       conv2d[0][0]                     \n",
      "__________________________________________________________________________________________________\n",
      "conv2d_38 (Conv2D)              (None, 255, 255, 64) 2112        average_pooling2d_2[0][0]        \n",
      "__________________________________________________________________________________________________\n",
      "batch_normalization_28 (BatchNo (None, 255, 255, 64) 192         conv2d_30[0][0]                  \n",
      "__________________________________________________________________________________________________\n",
      "batch_normalization_32 (BatchNo (None, 255, 255, 128 384         conv2d_34[0][0]                  \n",
      "__________________________________________________________________________________________________\n",
      "batch_normalization_36 (BatchNo (None, 255, 255, 64) 192         conv2d_38[0][0]                  \n",
      "__________________________________________________________________________________________________\n",
      "activation_28 (Activation)      (None, 255, 255, 64) 0           batch_normalization_28[0][0]     \n",
      "__________________________________________________________________________________________________\n",
      "activation_32 (Activation)      (None, 255, 255, 128 0           batch_normalization_32[0][0]     \n",
      "__________________________________________________________________________________________________\n",
      "activation_36 (Activation)      (None, 255, 255, 64) 0           batch_normalization_36[0][0]     \n",
      "__________________________________________________________________________________________________\n",
      "conv2d_31 (Conv2D)              (None, 255, 255, 64) 4160        activation_28[0][0]              \n",
      "__________________________________________________________________________________________________\n",
      "conv2d_35 (Conv2D)              (None, 255, 255, 128 147584      activation_32[0][0]              \n",
      "__________________________________________________________________________________________________\n",
      "conv2d_39 (Conv2D)              (None, 255, 255, 64) 4160        activation_36[0][0]              \n",
      "__________________________________________________________________________________________________\n",
      "add_18 (Add)                    (None, 255, 255, 64) 0           conv2d_30[0][0]                  \n",
      "                                                                 conv2d_31[0][0]                  \n",
      "__________________________________________________________________________________________________\n",
      "add_21 (Add)                    (None, 255, 255, 128 0           conv2d_34[0][0]                  \n",
      "                                                                 conv2d_35[0][0]                  \n",
      "__________________________________________________________________________________________________\n",
      "add_24 (Add)                    (None, 255, 255, 64) 0           conv2d_38[0][0]                  \n",
      "                                                                 conv2d_39[0][0]                  \n",
      "__________________________________________________________________________________________________\n",
      "batch_normalization_29 (BatchNo (None, 255, 255, 64) 192         add_18[0][0]                     \n",
      "__________________________________________________________________________________________________\n",
      "batch_normalization_33 (BatchNo (None, 255, 255, 128 384         add_21[0][0]                     \n",
      "__________________________________________________________________________________________________\n",
      "batch_normalization_37 (BatchNo (None, 255, 255, 64) 192         add_24[0][0]                     \n",
      "__________________________________________________________________________________________________\n",
      "activation_29 (Activation)      (None, 255, 255, 64) 0           batch_normalization_29[0][0]     \n",
      "__________________________________________________________________________________________________\n",
      "activation_33 (Activation)      (None, 255, 255, 128 0           batch_normalization_33[0][0]     \n",
      "__________________________________________________________________________________________________\n",
      "activation_37 (Activation)      (None, 255, 255, 64) 0           batch_normalization_37[0][0]     \n",
      "__________________________________________________________________________________________________\n",
      "conv2d_32 (Conv2D)              (None, 255, 255, 64) 4160        activation_29[0][0]              \n",
      "__________________________________________________________________________________________________\n",
      "conv2d_36 (Conv2D)              (None, 255, 255, 128 147584      activation_33[0][0]              \n",
      "__________________________________________________________________________________________________\n",
      "conv2d_40 (Conv2D)              (None, 255, 255, 64) 4160        activation_37[0][0]              \n",
      "__________________________________________________________________________________________________\n",
      "add_19 (Add)                    (None, 255, 255, 64) 0           conv2d_30[0][0]                  \n",
      "                                                                 conv2d_32[0][0]                  \n",
      "__________________________________________________________________________________________________\n",
      "add_22 (Add)                    (None, 255, 255, 128 0           conv2d_34[0][0]                  \n",
      "                                                                 conv2d_36[0][0]                  \n",
      "__________________________________________________________________________________________________\n",
      "add_25 (Add)                    (None, 255, 255, 64) 0           conv2d_38[0][0]                  \n",
      "                                                                 conv2d_40[0][0]                  \n",
      "__________________________________________________________________________________________________\n",
      "batch_normalization_30 (BatchNo (None, 255, 255, 64) 192         add_19[0][0]                     \n",
      "__________________________________________________________________________________________________\n",
      "batch_normalization_34 (BatchNo (None, 255, 255, 128 384         add_22[0][0]                     \n",
      "__________________________________________________________________________________________________\n",
      "batch_normalization_38 (BatchNo (None, 255, 255, 64) 192         add_25[0][0]                     \n",
      "__________________________________________________________________________________________________\n",
      "activation_30 (Activation)      (None, 255, 255, 64) 0           batch_normalization_30[0][0]     \n",
      "__________________________________________________________________________________________________\n",
      "activation_34 (Activation)      (None, 255, 255, 128 0           batch_normalization_34[0][0]     \n",
      "__________________________________________________________________________________________________\n",
      "activation_38 (Activation)      (None, 255, 255, 64) 0           batch_normalization_38[0][0]     \n",
      "__________________________________________________________________________________________________\n",
      "conv2d_33 (Conv2D)              (None, 255, 255, 64) 4160        activation_30[0][0]              \n",
      "__________________________________________________________________________________________________\n",
      "conv2d_37 (Conv2D)              (None, 255, 255, 128 147584      activation_34[0][0]              \n",
      "__________________________________________________________________________________________________\n",
      "conv2d_41 (Conv2D)              (None, 255, 255, 64) 4160        activation_38[0][0]              \n",
      "__________________________________________________________________________________________________\n",
      "add_20 (Add)                    (None, 255, 255, 64) 0           conv2d_30[0][0]                  \n",
      "                                                                 conv2d_33[0][0]                  \n",
      "__________________________________________________________________________________________________\n",
      "add_23 (Add)                    (None, 255, 255, 128 0           conv2d_34[0][0]                  \n",
      "                                                                 conv2d_37[0][0]                  \n",
      "__________________________________________________________________________________________________\n",
      "add_26 (Add)                    (None, 255, 255, 64) 0           conv2d_38[0][0]                  \n",
      "                                                                 conv2d_41[0][0]                  \n",
      "__________________________________________________________________________________________________\n",
      "batch_normalization_31 (BatchNo (None, 255, 255, 64) 192         add_20[0][0]                     \n",
      "__________________________________________________________________________________________________\n",
      "batch_normalization_35 (BatchNo (None, 255, 255, 128 384         add_23[0][0]                     \n",
      "__________________________________________________________________________________________________\n",
      "batch_normalization_39 (BatchNo (None, 255, 255, 64) 192         add_26[0][0]                     \n",
      "__________________________________________________________________________________________________\n",
      "activation_31 (Activation)      (None, 255, 255, 64) 0           batch_normalization_31[0][0]     \n",
      "__________________________________________________________________________________________________\n",
      "activation_35 (Activation)      (None, 255, 255, 128 0           batch_normalization_35[0][0]     \n",
      "__________________________________________________________________________________________________\n",
      "activation_39 (Activation)      (None, 255, 255, 64) 0           batch_normalization_39[0][0]     \n",
      "__________________________________________________________________________________________________\n",
      "concatenate_2 (Concatenate)     (None, 255, 255, 256 0           activation_31[0][0]              \n",
      "                                                                 activation_35[0][0]              \n",
      "                                                                 activation_39[0][0]              \n",
      "__________________________________________________________________________________________________\n",
      "conv2d_42 (Conv2D)              (None, 127, 127, 32) 73728       concatenate_2[0][0]              \n",
      "__________________________________________________________________________________________________\n",
      "batch_normalization_40 (BatchNo (None, 127, 127, 32) 96          conv2d_42[0][0]                  \n",
      "__________________________________________________________________________________________________\n",
      "activation_40 (Activation)      (None, 127, 127, 32) 0           batch_normalization_40[0][0]     \n",
      "__________________________________________________________________________________________________\n",
      "global_average_pooling2d (Globa (None, 32)           0           activation_40[0][0]              \n",
      "__________________________________________________________________________________________________\n",
      "dropout_2 (Dropout)             (None, 32)           0           global_average_pooling2d[0][0]   \n",
      "__________________________________________________________________________________________________\n",
      "dense (Dense)                   (None, 3)            99          dropout_2[0][0]                  \n",
      "==================================================================================================\n",
      "Total params: 586,819\n",
      "Trainable params: 584,707\n",
      "Non-trainable params: 2,112\n",
      "__________________________________________________________________________________________________\n"
     ]
    }
   ],
   "source": [
    "model.summary()"
   ]
  },
  {
   "cell_type": "code",
   "execution_count": null,
   "metadata": {},
   "outputs": [],
   "source": [
    "tf.keras.utils.plot_model(model, show_shapes=True, dpi=64)"
   ]
  },
  {
   "cell_type": "code",
   "execution_count": 15,
   "metadata": {
    "colab": {},
    "colab_type": "code",
    "id": "T8j-sPf8p4Yx"
   },
   "outputs": [],
   "source": [
    "adam = optimizers.Adam(lr=0.001, beta_1=0.9, beta_2=0.999)\n",
    "\n",
    "workspace_path = '/home/ahmedf/Downloads/segmented_images_classified/'\n",
    "weights_path = workspace_path + 'weights_adam.hdf5' # \"weights-{epoch:02d}-{val_acc:.2f}.hdf5\"\n",
    "\n",
    "mcp = callbacks.ModelCheckpoint(weights_path, monitor='val_acc', verbose=1, save_best_only=True, mode='max', save_freq=100)\n",
    "callbacks_list = [mcp]\n",
    "\n",
    "model.compile(loss='categorical_crossentropy', optimizer=adam, metrics=[\"accuracy\"])"
   ]
  },
  {
   "cell_type": "markdown",
   "metadata": {
    "colab_type": "text",
    "id": "hZUbn7lDb21q"
   },
   "source": [
    "Load the dataset"
   ]
  },
  {
   "cell_type": "code",
   "execution_count": null,
   "metadata": {},
   "outputs": [],
   "source": [
    "train_path = '/home/ahmedf/Downloads/segmented_images_classified/'"
   ]
  },
  {
   "cell_type": "code",
   "execution_count": 16,
   "metadata": {
    "colab": {
     "base_uri": "https://localhost:8080/",
     "height": 51
    },
    "colab_type": "code",
    "id": "nUSWmOqfp4Yn",
    "outputId": "fc655dea-8a77-4df1-de18-14ead9b66048"
   },
   "outputs": [
    {
     "name": "stdout",
     "output_type": "stream",
     "text": [
      "Found 1530 images belonging to 3 classes.\n",
      "Found 270 images belonging to 3 classes.\n"
     ]
    }
   ],
   "source": [
    "aug = ImageDataGenerator(rotation_range=45,\n",
    "                         fill_mode='wrap',\n",
    "                         samplewise_center=True,\n",
    "                         samplewise_std_normalization=True,\n",
    "                         horizontal_flip=True, \n",
    "                         vertical_flip=True, \n",
    "                         validation_split=0.15)\n",
    "\n",
    "\n",
    "train_generator = aug.flow_from_directory(\n",
    "    train_path,\n",
    "    target_size=(image_size, image_size), #256,256\n",
    "    batch_size=bs,\n",
    "    subset='training') # set as training data\n",
    "\n",
    "validation_generator = aug.flow_from_directory(\n",
    "    train_path, # same directory as training data\n",
    "    target_size=(image_size, image_size),#256,256\n",
    "    batch_size=bs,\n",
    "    subset='validation') # set as validation data"
   ]
  },
  {
   "cell_type": "code",
   "execution_count": 17,
   "metadata": {},
   "outputs": [],
   "source": [
    "train_step=train_generator.n//train_generator.batch_size\n",
    "valid_step=validation_generator.n//validation_generator.batch_size"
   ]
  },
  {
   "cell_type": "markdown",
   "metadata": {},
   "source": [
    "# Check point saver:"
   ]
  },
  {
   "cell_type": "code",
   "execution_count": 19,
   "metadata": {},
   "outputs": [
    {
     "name": "stdout",
     "output_type": "stream",
     "text": [
      "/bin/bash: /home/ahmedf/anaconda3/envs/skin_deep/lib/python3.9/site-packages/cv2/../../../../lib/libtinfo.so.6: no version information available (required by /bin/bash)\r\n"
     ]
    }
   ],
   "source": [
    "!export LD_LIBRARY_PATH=$LD_LIBRARY_PATH:$CONDA_PREFIX/lib/"
   ]
  },
  {
   "cell_type": "markdown",
   "metadata": {
    "colab_type": "text",
    "id": "WZMU1ylNb5Be"
   },
   "source": [
    "Training..."
   ]
  },
  {
   "cell_type": "code",
   "execution_count": 20,
   "metadata": {
    "colab": {},
    "colab_type": "code",
    "id": "bu95wKXcp4Y3"
   },
   "outputs": [
    {
     "name": "stderr",
     "output_type": "stream",
     "text": [
      "/home/ahmedf/anaconda3/envs/skin_deep/lib/python3.9/site-packages/tensorflow/python/keras/engine/training.py:1844: UserWarning: `Model.fit_generator` is deprecated and will be removed in a future version. Please use `Model.fit`, which supports generators.\n",
      "  warnings.warn('`Model.fit_generator` is deprecated and '\n",
      "2022-12-06 00:14:06.459739: I tensorflow/compiler/mlir/mlir_graph_optimization_pass.cc:116] None of the MLIR optimization passes are enabled (registered 2)\n",
      "2022-12-06 00:14:06.482204: I tensorflow/core/platform/profile_utils/cpu_utils.cc:112] CPU Frequency: 3699850000 Hz\n"
     ]
    },
    {
     "name": "stdout",
     "output_type": "stream",
     "text": [
      "Epoch 1/75\n"
     ]
    },
    {
     "name": "stderr",
     "output_type": "stream",
     "text": [
      "2022-12-06 00:14:07.473023: I tensorflow/stream_executor/platform/default/dso_loader.cc:49] Successfully opened dynamic library libcublas.so.10\n",
      "2022-12-06 00:14:08.572841: I tensorflow/stream_executor/platform/default/dso_loader.cc:49] Successfully opened dynamic library libcudnn.so.7\n"
     ]
    },
    {
     "name": "stdout",
     "output_type": "stream",
     "text": [
      "95/95 [==============================] - 128s 1s/step - loss: 1.0456 - accuracy: 0.5382 - val_loss: 3.1582 - val_accuracy: 0.1758\n",
      "Epoch 2/75\n",
      " 5/95 [>.............................] - ETA: 1:36 - loss: 0.9084 - accuracy: 0.6854WARNING:tensorflow:Can save best model only with val_acc available, skipping.\n",
      "95/95 [==============================] - 120s 1s/step - loss: 0.9175 - accuracy: 0.6840 - val_loss: 3.7271 - val_accuracy: 0.7109\n",
      "Epoch 3/75\n",
      "10/95 [==>...........................] - ETA: 1:37 - loss: 0.9946 - accuracy: 0.6321WARNING:tensorflow:Can save best model only with val_acc available, skipping.\n",
      "95/95 [==============================] - 118s 1s/step - loss: 0.9194 - accuracy: 0.6949 - val_loss: 3.6183 - val_accuracy: 0.6992\n",
      "Epoch 4/75\n",
      "15/95 [===>..........................] - ETA: 1:28 - loss: 0.8779 - accuracy: 0.7058WARNING:tensorflow:Can save best model only with val_acc available, skipping.\n",
      "95/95 [==============================] - 121s 1s/step - loss: 0.8850 - accuracy: 0.7062 - val_loss: 4.0075 - val_accuracy: 0.7148\n",
      "Epoch 5/75\n",
      "20/95 [=====>........................] - ETA: 1:23 - loss: 0.8396 - accuracy: 0.7043WARNING:tensorflow:Can save best model only with val_acc available, skipping.\n",
      "95/95 [==============================] - 122s 1s/step - loss: 0.8588 - accuracy: 0.7049 - val_loss: 2.4418 - val_accuracy: 0.7188\n",
      "Epoch 6/75\n",
      "25/95 [======>.......................] - ETA: 1:17 - loss: 0.8849 - accuracy: 0.7288WARNING:tensorflow:Can save best model only with val_acc available, skipping.\n",
      "95/95 [==============================] - 119s 1s/step - loss: 0.8560 - accuracy: 0.7208 - val_loss: 2.8485 - val_accuracy: 0.7148\n",
      "Epoch 7/75\n",
      "30/95 [========>.....................] - ETA: 1:13 - loss: 0.8602 - accuracy: 0.7037WARNING:tensorflow:Can save best model only with val_acc available, skipping.\n",
      "95/95 [==============================] - 121s 1s/step - loss: 0.8631 - accuracy: 0.7062 - val_loss: 3.3567 - val_accuracy: 0.7109\n",
      "Epoch 8/75\n",
      "35/95 [==========>...................] - ETA: 1:06 - loss: 0.8180 - accuracy: 0.7404WARNING:tensorflow:Can save best model only with val_acc available, skipping.\n",
      "95/95 [==============================] - 120s 1s/step - loss: 0.8393 - accuracy: 0.7271 - val_loss: 2.1098 - val_accuracy: 0.7148\n",
      "Epoch 9/75\n",
      "40/95 [===========>..................] - ETA: 1:02 - loss: 0.8830 - accuracy: 0.6802WARNING:tensorflow:Can save best model only with val_acc available, skipping.\n",
      "95/95 [==============================] - 121s 1s/step - loss: 0.8628 - accuracy: 0.6988 - val_loss: 2.2000 - val_accuracy: 0.7148\n",
      "Epoch 10/75\n",
      "45/95 [=============>................] - ETA: 56s - loss: 0.8360 - accuracy: 0.7191WARNING:tensorflow:Can save best model only with val_acc available, skipping.\n",
      "95/95 [==============================] - 121s 1s/step - loss: 0.8443 - accuracy: 0.7121 - val_loss: 4.3811 - val_accuracy: 0.7070\n",
      "Epoch 11/75\n",
      "50/95 [==============>...............] - ETA: 50s - loss: 0.8327 - accuracy: 0.7207WARNING:tensorflow:Can save best model only with val_acc available, skipping.\n",
      "95/95 [==============================] - 121s 1s/step - loss: 0.8404 - accuracy: 0.7163 - val_loss: 2.1177 - val_accuracy: 0.7148\n",
      "Epoch 12/75\n",
      "55/95 [================>.............] - ETA: 44s - loss: 0.8152 - accuracy: 0.7285WARNING:tensorflow:Can save best model only with val_acc available, skipping.\n",
      "95/95 [==============================] - 121s 1s/step - loss: 0.8249 - accuracy: 0.7208 - val_loss: 1.2831 - val_accuracy: 0.7227\n",
      "Epoch 13/75\n",
      "60/95 [=================>............] - ETA: 39s - loss: 0.9029 - accuracy: 0.6728WARNING:tensorflow:Can save best model only with val_acc available, skipping.\n",
      "95/95 [==============================] - 121s 1s/step - loss: 0.8821 - accuracy: 0.6839 - val_loss: 1.3709 - val_accuracy: 0.7109\n",
      "Epoch 14/75\n",
      "65/95 [===================>..........] - ETA: 33s - loss: 0.8081 - accuracy: 0.7298WARNING:tensorflow:Can save best model only with val_acc available, skipping.\n",
      "95/95 [==============================] - 120s 1s/step - loss: 0.8137 - accuracy: 0.7260 - val_loss: 0.8387 - val_accuracy: 0.7109\n",
      "Epoch 15/75\n",
      "70/95 [=====================>........] - ETA: 28s - loss: 0.8220 - accuracy: 0.7172WARNING:tensorflow:Can save best model only with val_acc available, skipping.\n",
      "95/95 [==============================] - 122s 1s/step - loss: 0.8217 - accuracy: 0.7158 - val_loss: 0.8853 - val_accuracy: 0.7070\n",
      "Epoch 16/75\n",
      "75/95 [======================>.......] - ETA: 22s - loss: 0.8044 - accuracy: 0.7363WARNING:tensorflow:Can save best model only with val_acc available, skipping.\n",
      "95/95 [==============================] - 123s 1s/step - loss: 0.8097 - accuracy: 0.7315 - val_loss: 0.8503 - val_accuracy: 0.7109\n",
      "Epoch 17/75\n",
      "80/95 [========================>.....] - ETA: 17s - loss: 0.7943 - accuracy: 0.7317WARNING:tensorflow:Can save best model only with val_acc available, skipping.\n",
      "95/95 [==============================] - 122s 1s/step - loss: 0.7989 - accuracy: 0.7282 - val_loss: 0.8246 - val_accuracy: 0.7188\n",
      "Epoch 18/75\n",
      "85/95 [=========================>....] - ETA: 11s - loss: 0.8173 - accuracy: 0.7137WARNING:tensorflow:Can save best model only with val_acc available, skipping.\n",
      "95/95 [==============================] - 120s 1s/step - loss: 0.8188 - accuracy: 0.7130 - val_loss: 0.8636 - val_accuracy: 0.7109\n",
      "Epoch 19/75\n",
      "90/95 [===========================>..] - ETA: 5s - loss: 0.8005 - accuracy: 0.7117WARNING:tensorflow:Can save best model only with val_acc available, skipping.\n",
      "95/95 [==============================] - 120s 1s/step - loss: 0.8017 - accuracy: 0.7115 - val_loss: 0.8620 - val_accuracy: 0.7188\n",
      "Epoch 20/75\n",
      "95/95 [==============================] - ETA: 0s - loss: 0.8627 - accuracy: 0.6861WARNING:tensorflow:Can save best model only with val_acc available, skipping.\n",
      "95/95 [==============================] - 121s 1s/step - loss: 0.8623 - accuracy: 0.6864 - val_loss: 0.9206 - val_accuracy: 0.7109\n",
      "Epoch 21/75\n",
      "95/95 [==============================] - 121s 1s/step - loss: 0.8357 - accuracy: 0.6932 - val_loss: 0.8516 - val_accuracy: 0.7188\n",
      "Epoch 22/75\n",
      " 5/95 [>.............................] - ETA: 1:37 - loss: 0.6465 - accuracy: 0.8248WARNING:tensorflow:Can save best model only with val_acc available, skipping.\n",
      "95/95 [==============================] - 120s 1s/step - loss: 0.7937 - accuracy: 0.7265 - val_loss: 0.8217 - val_accuracy: 0.7148\n",
      "Epoch 23/75\n",
      "10/95 [==>...........................] - ETA: 1:33 - loss: 0.8430 - accuracy: 0.6990WARNING:tensorflow:Can save best model only with val_acc available, skipping.\n",
      "95/95 [==============================] - 120s 1s/step - loss: 0.8309 - accuracy: 0.6979 - val_loss: 2.6380 - val_accuracy: 0.7031\n",
      "Epoch 24/75\n",
      "15/95 [===>..........................] - ETA: 1:32 - loss: 0.8042 - accuracy: 0.7427WARNING:tensorflow:Can save best model only with val_acc available, skipping.\n",
      "95/95 [==============================] - 122s 1s/step - loss: 0.8322 - accuracy: 0.7063 - val_loss: 2.4670 - val_accuracy: 0.7031\n",
      "Epoch 25/75\n",
      "20/95 [=====>........................] - ETA: 1:23 - loss: 0.7181 - accuracy: 0.7595WARNING:tensorflow:Can save best model only with val_acc available, skipping.\n",
      "95/95 [==============================] - 120s 1s/step - loss: 0.7998 - accuracy: 0.7210 - val_loss: 1.9065 - val_accuracy: 0.7109\n",
      "Epoch 26/75\n",
      "25/95 [======>.......................] - ETA: 1:18 - loss: 0.7888 - accuracy: 0.7325WARNING:tensorflow:Can save best model only with val_acc available, skipping.\n",
      "95/95 [==============================] - 121s 1s/step - loss: 0.7844 - accuracy: 0.7327 - val_loss: 0.8085 - val_accuracy: 0.7188\n",
      "Epoch 27/75\n",
      "30/95 [========>.....................] - ETA: 1:12 - loss: 0.8514 - accuracy: 0.6935WARNING:tensorflow:Can save best model only with val_acc available, skipping.\n",
      "95/95 [==============================] - 120s 1s/step - loss: 0.8251 - accuracy: 0.7022 - val_loss: 2.6504 - val_accuracy: 0.7148\n",
      "Epoch 28/75\n",
      "35/95 [==========>...................] - ETA: 1:08 - loss: 0.7657 - accuracy: 0.7430WARNING:tensorflow:Can save best model only with val_acc available, skipping.\n",
      "95/95 [==============================] - 122s 1s/step - loss: 0.7801 - accuracy: 0.7301 - val_loss: 1.9286 - val_accuracy: 0.7227\n",
      "Epoch 29/75\n"
     ]
    },
    {
     "name": "stdout",
     "output_type": "stream",
     "text": [
      "40/95 [===========>..................] - ETA: 1:01 - loss: 0.8314 - accuracy: 0.6800WARNING:tensorflow:Can save best model only with val_acc available, skipping.\n",
      "95/95 [==============================] - 122s 1s/step - loss: 0.8261 - accuracy: 0.6920 - val_loss: 0.8074 - val_accuracy: 0.7031\n",
      "Epoch 30/75\n",
      "45/95 [=============>................] - ETA: 55s - loss: 0.8396 - accuracy: 0.6977WARNING:tensorflow:Can save best model only with val_acc available, skipping.\n",
      "95/95 [==============================] - 122s 1s/step - loss: 0.8245 - accuracy: 0.7023 - val_loss: 0.9782 - val_accuracy: 0.7070\n",
      "Epoch 31/75\n",
      "50/95 [==============>...............] - ETA: 50s - loss: 0.7607 - accuracy: 0.7430WARNING:tensorflow:Can save best model only with val_acc available, skipping.\n",
      "95/95 [==============================] - 121s 1s/step - loss: 0.7789 - accuracy: 0.7305 - val_loss: 0.8020 - val_accuracy: 0.7148\n",
      "Epoch 32/75\n",
      "55/95 [================>.............] - ETA: 44s - loss: 0.8375 - accuracy: 0.6938WARNING:tensorflow:Can save best model only with val_acc available, skipping.\n",
      "95/95 [==============================] - 120s 1s/step - loss: 0.8185 - accuracy: 0.7035 - val_loss: 1.2490 - val_accuracy: 0.7109\n",
      "Epoch 33/75\n",
      "60/95 [=================>............] - ETA: 40s - loss: 0.7949 - accuracy: 0.7278WARNING:tensorflow:Can save best model only with val_acc available, skipping.\n",
      "95/95 [==============================] - 123s 1s/step - loss: 0.7999 - accuracy: 0.7214 - val_loss: 0.9594 - val_accuracy: 0.7148\n",
      "Epoch 34/75\n",
      "65/95 [===================>..........] - ETA: 33s - loss: 0.8468 - accuracy: 0.6691WARNING:tensorflow:Can save best model only with val_acc available, skipping.\n",
      "95/95 [==============================] - 122s 1s/step - loss: 0.8270 - accuracy: 0.6844 - val_loss: 0.8728 - val_accuracy: 0.7070\n",
      "Epoch 35/75\n",
      "70/95 [=====================>........] - ETA: 28s - loss: 0.8427 - accuracy: 0.6942WARNING:tensorflow:Can save best model only with val_acc available, skipping.\n",
      "95/95 [==============================] - 123s 1s/step - loss: 0.8324 - accuracy: 0.6986 - val_loss: 0.8137 - val_accuracy: 0.7109\n",
      "Epoch 36/75\n",
      "75/95 [======================>.......] - ETA: 22s - loss: 0.8078 - accuracy: 0.7165WARNING:tensorflow:Can save best model only with val_acc available, skipping.\n",
      "95/95 [==============================] - 120s 1s/step - loss: 0.8060 - accuracy: 0.7154 - val_loss: 0.8588 - val_accuracy: 0.7031\n",
      "Epoch 37/75\n",
      "80/95 [========================>.....] - ETA: 16s - loss: 0.7620 - accuracy: 0.7393WARNING:tensorflow:Can save best model only with val_acc available, skipping.\n",
      "95/95 [==============================] - 122s 1s/step - loss: 0.7687 - accuracy: 0.7347 - val_loss: 0.8413 - val_accuracy: 0.6992\n",
      "Epoch 38/75\n",
      "85/95 [=========================>....] - ETA: 11s - loss: 0.8180 - accuracy: 0.6920WARNING:tensorflow:Can save best model only with val_acc available, skipping.\n",
      "95/95 [==============================] - 120s 1s/step - loss: 0.8158 - accuracy: 0.6939 - val_loss: 0.8281 - val_accuracy: 0.7031\n",
      "Epoch 39/75\n",
      "90/95 [===========================>..] - ETA: 5s - loss: 0.7946 - accuracy: 0.7113WARNING:tensorflow:Can save best model only with val_acc available, skipping.\n",
      "95/95 [==============================] - 121s 1s/step - loss: 0.7945 - accuracy: 0.7112 - val_loss: 0.8166 - val_accuracy: 0.7070\n",
      "Epoch 40/75\n",
      "95/95 [==============================] - ETA: 0s - loss: 0.7898 - accuracy: 0.7072WARNING:tensorflow:Can save best model only with val_acc available, skipping.\n",
      "95/95 [==============================] - 120s 1s/step - loss: 0.7898 - accuracy: 0.7072 - val_loss: 0.8187 - val_accuracy: 0.7109\n",
      "Epoch 41/75\n",
      "95/95 [==============================] - 120s 1s/step - loss: 0.8066 - accuracy: 0.7137 - val_loss: 0.8373 - val_accuracy: 0.7109\n",
      "Epoch 42/75\n",
      " 5/95 [>.............................] - ETA: 1:37 - loss: 0.6217 - accuracy: 0.8067WARNING:tensorflow:Can save best model only with val_acc available, skipping.\n",
      "95/95 [==============================] - 120s 1s/step - loss: 0.7506 - accuracy: 0.7354 - val_loss: 0.8196 - val_accuracy: 0.7031\n",
      "Epoch 43/75\n",
      "10/95 [==>...........................] - ETA: 1:33 - loss: 0.8323 - accuracy: 0.6565WARNING:tensorflow:Can save best model only with val_acc available, skipping.\n",
      "95/95 [==============================] - 121s 1s/step - loss: 0.7810 - accuracy: 0.7112 - val_loss: 0.8192 - val_accuracy: 0.7188\n",
      "Epoch 44/75\n",
      "15/95 [===>..........................] - ETA: 1:26 - loss: 0.7650 - accuracy: 0.7589WARNING:tensorflow:Can save best model only with val_acc available, skipping.\n",
      "95/95 [==============================] - 119s 1s/step - loss: 0.7721 - accuracy: 0.7304 - val_loss: 0.8121 - val_accuracy: 0.7148\n",
      "Epoch 45/75\n",
      "20/95 [=====>........................] - ETA: 1:23 - loss: 0.7892 - accuracy: 0.7273WARNING:tensorflow:Can save best model only with val_acc available, skipping.\n",
      "95/95 [==============================] - 120s 1s/step - loss: 0.8015 - accuracy: 0.7122 - val_loss: 0.8255 - val_accuracy: 0.7031\n",
      "Epoch 46/75\n",
      "25/95 [======>.......................] - ETA: 1:17 - loss: 0.8340 - accuracy: 0.6868WARNING:tensorflow:Can save best model only with val_acc available, skipping.\n",
      "95/95 [==============================] - 120s 1s/step - loss: 0.8177 - accuracy: 0.6938 - val_loss: 0.8467 - val_accuracy: 0.7070\n",
      "Epoch 47/75\n",
      "30/95 [========>.....................] - ETA: 1:12 - loss: 0.8706 - accuracy: 0.6764WARNING:tensorflow:Can save best model only with val_acc available, skipping.\n",
      "95/95 [==============================] - 121s 1s/step - loss: 0.8209 - accuracy: 0.7033 - val_loss: 0.8151 - val_accuracy: 0.7070\n",
      "Epoch 48/75\n",
      "35/95 [==========>...................] - ETA: 1:07 - loss: 0.7801 - accuracy: 0.7263WARNING:tensorflow:Can save best model only with val_acc available, skipping.\n",
      "95/95 [==============================] - 121s 1s/step - loss: 0.7856 - accuracy: 0.7164 - val_loss: 0.8153 - val_accuracy: 0.7031\n",
      "Epoch 49/75\n",
      "40/95 [===========>..................] - ETA: 1:03 - loss: 0.8919 - accuracy: 0.6439WARNING:tensorflow:Can save best model only with val_acc available, skipping.\n",
      "95/95 [==============================] - 121s 1s/step - loss: 0.8411 - accuracy: 0.6774 - val_loss: 0.8030 - val_accuracy: 0.7109\n",
      "Epoch 50/75\n",
      "45/95 [=============>................] - ETA: 56s - loss: 0.8043 - accuracy: 0.6853WARNING:tensorflow:Can save best model only with val_acc available, skipping.\n",
      "95/95 [==============================] - 122s 1s/step - loss: 0.7994 - accuracy: 0.6957 - val_loss: 0.7990 - val_accuracy: 0.7109\n",
      "Epoch 51/75\n",
      "50/95 [==============>...............] - ETA: 50s - loss: 0.8254 - accuracy: 0.6817WARNING:tensorflow:Can save best model only with val_acc available, skipping.\n",
      "95/95 [==============================] - 122s 1s/step - loss: 0.8101 - accuracy: 0.6931 - val_loss: 0.7930 - val_accuracy: 0.7109\n",
      "Epoch 52/75\n",
      "55/95 [================>.............] - ETA: 45s - loss: 0.7361 - accuracy: 0.7349WARNING:tensorflow:Can save best model only with val_acc available, skipping.\n",
      "95/95 [==============================] - 122s 1s/step - loss: 0.7503 - accuracy: 0.7272 - val_loss: 0.7992 - val_accuracy: 0.7109\n",
      "Epoch 53/75\n",
      "60/95 [=================>............] - ETA: 39s - loss: 0.7554 - accuracy: 0.7300WARNING:tensorflow:Can save best model only with val_acc available, skipping.\n",
      "95/95 [==============================] - 121s 1s/step - loss: 0.7629 - accuracy: 0.7255 - val_loss: 0.8391 - val_accuracy: 0.6914\n",
      "Epoch 54/75\n",
      "65/95 [===================>..........] - ETA: 34s - loss: 0.8284 - accuracy: 0.6854WARNING:tensorflow:Can save best model only with val_acc available, skipping.\n",
      "95/95 [==============================] - 121s 1s/step - loss: 0.8186 - accuracy: 0.6914 - val_loss: 0.9196 - val_accuracy: 0.7188\n",
      "Epoch 55/75\n",
      "70/95 [=====================>........] - ETA: 28s - loss: 0.8460 - accuracy: 0.6750WARNING:tensorflow:Can save best model only with val_acc available, skipping.\n",
      "95/95 [==============================] - 121s 1s/step - loss: 0.8326 - accuracy: 0.6837 - val_loss: 0.7734 - val_accuracy: 0.7148\n",
      "Epoch 56/75\n",
      "75/95 [======================>.......] - ETA: 22s - loss: 0.8437 - accuracy: 0.6953WARNING:tensorflow:Can save best model only with val_acc available, skipping.\n"
     ]
    },
    {
     "name": "stdout",
     "output_type": "stream",
     "text": [
      "95/95 [==============================] - 120s 1s/step - loss: 0.8315 - accuracy: 0.6993 - val_loss: 0.7963 - val_accuracy: 0.7070\n",
      "Epoch 57/75\n",
      "80/95 [========================>.....] - ETA: 16s - loss: 0.7808 - accuracy: 0.7040WARNING:tensorflow:Can save best model only with val_acc available, skipping.\n",
      "95/95 [==============================] - 121s 1s/step - loss: 0.7823 - accuracy: 0.7048 - val_loss: 0.7800 - val_accuracy: 0.7188\n",
      "Epoch 58/75\n",
      "85/95 [=========================>....] - ETA: 11s - loss: 0.7772 - accuracy: 0.7155WARNING:tensorflow:Can save best model only with val_acc available, skipping.\n",
      "95/95 [==============================] - 122s 1s/step - loss: 0.7781 - accuracy: 0.7152 - val_loss: 0.7917 - val_accuracy: 0.7188\n",
      "Epoch 59/75\n",
      "90/95 [===========================>..] - ETA: 5s - loss: 0.8273 - accuracy: 0.6825WARNING:tensorflow:Can save best model only with val_acc available, skipping.\n",
      "95/95 [==============================] - 120s 1s/step - loss: 0.8243 - accuracy: 0.6844 - val_loss: 0.8058 - val_accuracy: 0.7109\n",
      "Epoch 60/75\n",
      "95/95 [==============================] - ETA: 0s - loss: 0.7594 - accuracy: 0.7276WARNING:tensorflow:Can save best model only with val_acc available, skipping.\n",
      "95/95 [==============================] - 120s 1s/step - loss: 0.7597 - accuracy: 0.7275 - val_loss: 0.7900 - val_accuracy: 0.7148\n",
      "Epoch 61/75\n",
      "95/95 [==============================] - 123s 1s/step - loss: 0.8242 - accuracy: 0.6934 - val_loss: 0.8144 - val_accuracy: 0.7109\n",
      "Epoch 62/75\n",
      " 5/95 [>.............................] - ETA: 1:37 - loss: 1.0096 - accuracy: 0.6515WARNING:tensorflow:Can save best model only with val_acc available, skipping.\n",
      "95/95 [==============================] - 120s 1s/step - loss: 0.8225 - accuracy: 0.6991 - val_loss: 1.1048 - val_accuracy: 0.7188\n",
      "Epoch 63/75\n",
      "10/95 [==>...........................] - ETA: 1:39 - loss: 0.8274 - accuracy: 0.6959WARNING:tensorflow:Can save best model only with val_acc available, skipping.\n",
      "95/95 [==============================] - 121s 1s/step - loss: 0.8055 - accuracy: 0.6975 - val_loss: 0.9043 - val_accuracy: 0.7109\n",
      "Epoch 64/75\n",
      "15/95 [===>..........................] - ETA: 1:32 - loss: 0.7473 - accuracy: 0.7140WARNING:tensorflow:Can save best model only with val_acc available, skipping.\n",
      "95/95 [==============================] - 121s 1s/step - loss: 0.7835 - accuracy: 0.7047 - val_loss: 0.7994 - val_accuracy: 0.7109\n",
      "Epoch 65/75\n",
      "20/95 [=====>........................] - ETA: 1:22 - loss: 0.7816 - accuracy: 0.7237WARNING:tensorflow:Can save best model only with val_acc available, skipping.\n",
      "95/95 [==============================] - 121s 1s/step - loss: 0.7982 - accuracy: 0.7075 - val_loss: 0.7853 - val_accuracy: 0.7188\n",
      "Epoch 66/75\n",
      "25/95 [======>.......................] - ETA: 1:18 - loss: 0.7625 - accuracy: 0.7148WARNING:tensorflow:Can save best model only with val_acc available, skipping.\n",
      "95/95 [==============================] - 122s 1s/step - loss: 0.7514 - accuracy: 0.7242 - val_loss: 0.8015 - val_accuracy: 0.7070\n",
      "Epoch 67/75\n",
      "30/95 [========>.....................] - ETA: 1:13 - loss: 0.7688 - accuracy: 0.7136WARNING:tensorflow:Can save best model only with val_acc available, skipping.\n",
      "95/95 [==============================] - 120s 1s/step - loss: 0.7731 - accuracy: 0.7152 - val_loss: 0.7900 - val_accuracy: 0.7188\n",
      "Epoch 68/75\n",
      "35/95 [==========>...................] - ETA: 1:06 - loss: 0.8281 - accuracy: 0.6963WARNING:tensorflow:Can save best model only with val_acc available, skipping.\n",
      "95/95 [==============================] - 119s 1s/step - loss: 0.8212 - accuracy: 0.6923 - val_loss: 0.8009 - val_accuracy: 0.7031\n",
      "Epoch 69/75\n",
      "40/95 [===========>..................] - ETA: 1:00 - loss: 0.8572 - accuracy: 0.6805WARNING:tensorflow:Can save best model only with val_acc available, skipping.\n",
      "95/95 [==============================] - 120s 1s/step - loss: 0.8253 - accuracy: 0.6918 - val_loss: 0.8026 - val_accuracy: 0.7070\n",
      "Epoch 70/75\n",
      "45/95 [=============>................] - ETA: 55s - loss: 0.7445 - accuracy: 0.7337WARNING:tensorflow:Can save best model only with val_acc available, skipping.\n",
      "95/95 [==============================] - 120s 1s/step - loss: 0.7523 - accuracy: 0.7295 - val_loss: 0.7979 - val_accuracy: 0.7148\n",
      "Epoch 71/75\n",
      "50/95 [==============>...............] - ETA: 50s - loss: 0.7797 - accuracy: 0.6995WARNING:tensorflow:Can save best model only with val_acc available, skipping.\n",
      "95/95 [==============================] - 121s 1s/step - loss: 0.7819 - accuracy: 0.7038 - val_loss: 0.7878 - val_accuracy: 0.7188\n",
      "Epoch 72/75\n",
      "55/95 [================>.............] - ETA: 44s - loss: 0.7756 - accuracy: 0.7156WARNING:tensorflow:Can save best model only with val_acc available, skipping.\n",
      "95/95 [==============================] - 120s 1s/step - loss: 0.7765 - accuracy: 0.7152 - val_loss: 0.8074 - val_accuracy: 0.7070\n",
      "Epoch 73/75\n",
      "60/95 [=================>............] - ETA: 38s - loss: 0.7847 - accuracy: 0.7028WARNING:tensorflow:Can save best model only with val_acc available, skipping.\n",
      "95/95 [==============================] - 119s 1s/step - loss: 0.7842 - accuracy: 0.7042 - val_loss: 0.7919 - val_accuracy: 0.7188\n",
      "Epoch 74/75\n",
      "65/95 [===================>..........] - ETA: 33s - loss: 0.7368 - accuracy: 0.7384WARNING:tensorflow:Can save best model only with val_acc available, skipping.\n",
      "95/95 [==============================] - 120s 1s/step - loss: 0.7508 - accuracy: 0.7299 - val_loss: 0.7867 - val_accuracy: 0.7188\n",
      "Epoch 75/75\n",
      "70/95 [=====================>........] - ETA: 27s - loss: 0.7819 - accuracy: 0.7033WARNING:tensorflow:Can save best model only with val_acc available, skipping.\n",
      "95/95 [==============================] - 119s 1s/step - loss: 0.7760 - accuracy: 0.7073 - val_loss: 0.7747 - val_accuracy: 0.7227\n"
     ]
    },
    {
     "data": {
      "text/plain": [
       "'/home/ahmedf/Downloads/training_checkpoints-1'"
      ]
     },
     "execution_count": 20,
     "metadata": {},
     "output_type": "execute_result"
    }
   ],
   "source": [
    "with tf.device('/device:GPU:0'):\n",
    "    history = model.fit_generator(\n",
    "        train_generator,\n",
    "        steps_per_epoch=train_step,\n",
    "        validation_data=validation_generator,\n",
    "        validation_steps=valid_step,\n",
    "        epochs=75,\n",
    "        callbacks=callbacks_list,\n",
    "        verbose=1,\n",
    "        shuffle=True)\n",
    "    \n",
    "training_checkpoints_path = '/home/ahmedf/Downloads/training_checkpoints'\n",
    "checkpoint = tf.train.Checkpoint(model)\n",
    "save_path = checkpoint.save(training_checkpoints_path)\n",
    "save_path\n",
    "    # make lr=0.001 after 20 epochs"
   ]
  },
  {
   "cell_type": "code",
   "execution_count": 26,
   "metadata": {},
   "outputs": [
    {
     "data": {
      "text/plain": [
       "Text(0.5, 1.0, 'Accuracy of IRCNN')"
      ]
     },
     "execution_count": 26,
     "metadata": {},
     "output_type": "execute_result"
    },
    {
     "data": {
      "image/png": "[encoded data removed]",
      "text/plain": [
       "<Figure size 800x600 with 1 Axes>"
      ]
     },
     "metadata": {},
     "output_type": "display_data"
    }
   ],
   "source": [
    "fig = plt.figure(figsize=[8, 6])\n",
    "results_type = 'Accuracy'\n",
    "model_name = 'IRCNN'\n",
    "plt.plot(history.history['accuracy'], 'r', linewidth=3.0)\n",
    "plt.plot(history.history['val_accuracy'], 'b', linewidth=3.0)\n",
    "plt.legend(['Training ' + results_type, 'Validation ' + results_type], fontsize=18)\n",
    "plt.xlabel('Epochs', fontsize=16)\n",
    "plt.ylabel(results_type, fontsize=16)\n",
    "plt.title(results_type + ' of ' + model_name, fontsize=16)"
   ]
  },
  {
   "cell_type": "code",
   "execution_count": 27,
   "metadata": {},
   "outputs": [
    {
     "data": {
      "text/plain": [
       "Text(0.5, 1.0, 'Loss of IRCNN')"
      ]
     },
     "execution_count": 27,
     "metadata": {},
     "output_type": "execute_result"
    },
    {
     "data": {
      "image/png": "[encoded data removed]",
      "text/plain": [
       "<Figure size 800x600 with 1 Axes>"
      ]
     },
     "metadata": {},
     "output_type": "display_data"
    }
   ],
   "source": [
    "fig = plt.figure(figsize=[8, 6])\n",
    "results_type = 'Loss'\n",
    "model_name = 'IRCNN'\n",
    "plt.plot(history.history['loss'], 'r', linewidth=3.0)\n",
    "plt.plot(history.history['val_loss'], 'b', linewidth=3.0)\n",
    "plt.legend(['Training ' + results_type, 'Validation ' + results_type], fontsize=18)\n",
    "plt.xlabel('Epochs', fontsize=16)\n",
    "plt.ylabel(results_type, fontsize=16)\n",
    "plt.title(results_type + ' of ' + model_name, fontsize=16)"
   ]
  },
  {
   "cell_type": "markdown",
   "metadata": {},
   "source": [
    "### Restoring the latest checkpoint in checkpoint_dir"
   ]
  },
  {
   "cell_type": "code",
   "execution_count": null,
   "metadata": {},
   "outputs": [],
   "source": [
    "checkpoint.restore(tf.train.latest_checkpoint(training_checkpoints_path))"
   ]
  },
  {
   "cell_type": "markdown",
   "metadata": {},
   "source": [
    "#### Model Evaluation"
   ]
  },
  {
   "cell_type": "code",
   "execution_count": 44,
   "metadata": {},
   "outputs": [
    {
     "name": "stdout",
     "output_type": "stream",
     "text": [
      "{'mel': 0, 'nev': 1, 'sk': 2}\n"
     ]
    }
   ],
   "source": [
    "print(validation_generator.class_indices)"
   ]
  },
  {
   "cell_type": "code",
   "execution_count": 77,
   "metadata": {},
   "outputs": [],
   "source": [
    "class_map = {0: 'mel', 1:'nev', 2: 'sk'}"
   ]
  },
  {
   "cell_type": "code",
   "execution_count": 84,
   "metadata": {},
   "outputs": [
    {
     "name": "stdout",
     "output_type": "stream",
     "text": [
      "Ground truth: nev - Prediction: nev -  Is_Correct: True\n",
      "\n",
      "Ground truth: mel - Prediction: nev -  Is_Correct: False\n",
      "\n",
      "Ground truth: nev - Prediction: nev -  Is_Correct: True\n",
      "\n",
      "Ground truth: nev - Prediction: nev -  Is_Correct: True\n",
      "\n",
      "Ground truth: mel - Prediction: nev -  Is_Correct: False\n",
      "\n",
      "Ground truth: nev - Prediction: nev -  Is_Correct: True\n",
      "\n",
      "Ground truth: sk - Prediction: nev -  Is_Correct: False\n",
      "\n",
      "Ground truth: nev - Prediction: nev -  Is_Correct: True\n",
      "\n",
      "Ground truth: nev - Prediction: nev -  Is_Correct: True\n",
      "\n",
      "Ground truth: mel - Prediction: nev -  Is_Correct: False\n",
      "\n",
      "Ground truth: nev - Prediction: nev -  Is_Correct: True\n",
      "\n",
      "Ground truth: nev - Prediction: nev -  Is_Correct: True\n",
      "\n",
      "Ground truth: sk - Prediction: nev -  Is_Correct: False\n",
      "\n",
      "Ground truth: nev - Prediction: nev -  Is_Correct: True\n",
      "\n",
      "Ground truth: mel - Prediction: nev -  Is_Correct: False\n",
      "\n",
      "Ground truth: sk - Prediction: nev -  Is_Correct: False\n",
      "\n"
     ]
    }
   ],
   "source": [
    "prediction = model(validation_generator[0][0], training=True)\n",
    "for ind in range(prediction.shape[0]):\n",
    "    pr_class = class_map[np.argsort(prediction[ind].numpy())[::-1][:1][0]]\n",
    "    gt_class = class_map[np.argsort(validation_generator[0][1][ind])[::-1][:1][0]]\n",
    "    res = (pr_class == gt_class)\n",
    "    print(\"Ground truth: {0} - Prediction: {1} -  Is_Correct: {2}\\n\".format(gt_class, pr_class, res))"
   ]
  },
  {
   "cell_type": "code",
   "execution_count": 85,
   "metadata": {},
   "outputs": [
    {
     "name": "stdout",
     "output_type": "stream",
     "text": [
      "17/17 [==============================] - 14s 826ms/step - loss: 0.7952 - accuracy: 0.7111\n"
     ]
    }
   ],
   "source": [
    "preds = model.evaluate(validation_generator, batch_size=bs, verbose=1, sample_weight=None)"
   ]
  }
 ],
 "metadata": {
  "accelerator": "GPU",
  "colab": {
   "collapsed_sections": [],
   "name": "IRCNN.ipynb",
   "provenance": [],
   "version": "0.3.2"
  },
  "kernelspec": {
   "display_name": "Python 3 (ipykernel)",
   "language": "python",
   "name": "python3"
  },
  "language_info": {
   "codemirror_mode": {
    "name": "ipython",
    "version": 3
   },
   "file_extension": ".py",
   "mimetype": "text/x-python",
   "name": "python",
   "nbconvert_exporter": "python",
   "pygments_lexer": "ipython3",
   "version": "3.9.15"
  }
 },
 "nbformat": 4,
 "nbformat_minor": 1
}
